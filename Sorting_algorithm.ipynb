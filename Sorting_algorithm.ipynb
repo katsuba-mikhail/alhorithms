{
  "nbformat": 4,
  "nbformat_minor": 0,
  "metadata": {
    "colab": {
      "name": "20210417 Sorting algorithm",
      "provenance": []
    },
    "kernelspec": {
      "name": "python3",
      "display_name": "Python 3"
    },
    "language_info": {
      "name": "python"
    }
  },
  "cells": [
    {
      "cell_type": "markdown",
      "metadata": {
        "id": "s9AlLLhRXZds"
      },
      "source": [
        "# Алгоритмы сортировки"
      ]
    },
    {
      "cell_type": "markdown",
      "metadata": {
        "id": "AqTvKg7XXcKw"
      },
      "source": [
        "## [Сортировка пузырьком](https://younglinux.info/algorithm/bubble)"
      ]
    },
    {
      "cell_type": "markdown",
      "metadata": {
        "id": "GDjymJcVXtp8"
      },
      "source": [
        "### Через for"
      ]
    },
    {
      "cell_type": "code",
      "metadata": {
        "colab": {
          "base_uri": "https://localhost:8080/"
        },
        "id": "7LR5QVefXQF4",
        "outputId": "e4a9e6ab-e34a-4451-b7ed-952e704ea9ea"
      },
      "source": [
        "from random import randint\n",
        "\n",
        "N = 10\n",
        "a = []\n",
        "for i in range(N):\n",
        "    a.append(randint(1, 99))\n",
        "\n",
        "print(a)    \n",
        "\n",
        "for i in range(N):\n",
        "    for j in range(N-i-1):\n",
        "        if a[j] > a[j+1]:\n",
        "            a[j], a[j+1] = a[j+1], a[j]\n",
        "\n",
        "print(a)"
      ],
      "execution_count": 1,
      "outputs": [
        {
          "output_type": "stream",
          "text": [
            "[51, 80, 41, 61, 80, 45, 54, 81, 34, 68]\n",
            "[34, 41, 45, 51, 54, 61, 68, 80, 80, 81]\n"
          ],
          "name": "stdout"
        }
      ]
    },
    {
      "cell_type": "markdown",
      "metadata": {
        "id": "2cDmeOKdYbLr"
      },
      "source": [
        "### Через while"
      ]
    },
    {
      "cell_type": "code",
      "metadata": {
        "colab": {
          "base_uri": "https://localhost:8080/"
        },
        "id": "zvp_Q1oKYfEx",
        "outputId": "ed526694-1185-4ccb-bfe2-6b360446f113"
      },
      "source": [
        "from random import randint\n",
        "\n",
        "N = 10\n",
        "a = []\n",
        "\n",
        "for i in range(N):\n",
        "    a.append(randint(1, 99))\n",
        "\n",
        "print(a)\n",
        "\n",
        "i = 0\n",
        "while i < N - 1:\n",
        "    j = 0\n",
        "    while j < N - 1 - i:\n",
        "        if a[j] > a[j+1]:\n",
        "            a[j], a[j+1] = a[j+1], a[j]\n",
        "        j += 1\n",
        "    i += 1\n",
        "\n",
        "print(a)            "
      ],
      "execution_count": 2,
      "outputs": [
        {
          "output_type": "stream",
          "text": [
            "[52, 96, 53, 4, 13, 48, 7, 43, 99, 76]\n",
            "[4, 7, 13, 43, 48, 52, 53, 76, 96, 99]\n"
          ],
          "name": "stdout"
        }
      ]
    },
    {
      "cell_type": "markdown",
      "metadata": {
        "id": "hAoVg-JhZpvJ"
      },
      "source": [
        "### Через функцию"
      ]
    },
    {
      "cell_type": "code",
      "metadata": {
        "colab": {
          "base_uri": "https://localhost:8080/"
        },
        "id": "RKczPpgyZsBy",
        "outputId": "bd820a50-7ce0-42c4-ac2d-811b3515db56"
      },
      "source": [
        "from random import randint\n",
        "\n",
        "def bubble(data):\n",
        "    for i in range(len(data)-1):\n",
        "        for j in range(len(data)-1-i):\n",
        "            if data[j] > data[j+1]:\n",
        "                a[j], a[j+1] = a[j+1], a[j]\n",
        "    return data\n",
        "\n",
        "N = 10\n",
        "a = [randint(1, 99) for i in range(N)]                \n",
        "print(a)\n",
        "\n",
        "a = bubble(a)\n",
        "print(a)"
      ],
      "execution_count": 3,
      "outputs": [
        {
          "output_type": "stream",
          "text": [
            "[90, 63, 43, 21, 62, 63, 75, 47, 30, 21]\n",
            "[21, 21, 30, 43, 47, 62, 63, 63, 75, 90]\n"
          ],
          "name": "stdout"
        }
      ]
    }
  ]
}